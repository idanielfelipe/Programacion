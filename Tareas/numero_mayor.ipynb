{
  "nbformat": 4,
  "nbformat_minor": 0,
  "metadata": {
    "colab": {
      "provenance": []
    },
    "kernelspec": {
      "name": "python3",
      "display_name": "Python 3"
    },
    "language_info": {
      "name": "python"
    }
  },
  "cells": [
    {
      "cell_type": "code",
      "execution_count": 1,
      "metadata": {
        "colab": {
          "base_uri": "https://localhost:8080/"
        },
        "id": "pQgvedUypQ2K",
        "outputId": "e532fef4-2833-424f-d099-fc6e23e1c73b"
      },
      "outputs": [
        {
          "output_type": "stream",
          "name": "stdout",
          "text": [
            "escriba un numero1\n",
            "escriba un otro numero2\n",
            "escriba un otro numero3\n",
            "escriba un otro numero4\n",
            "escriba un otro numero5\n",
            "escriba un otro numero6\n",
            "escriba un otro numero7\n",
            "escriba un otro numero8\n",
            "escriba un otro numero9\n",
            "escriba un otro numero1\n",
            "el numero mayor es 9\n"
          ]
        }
      ],
      "source": [
        "numero_mayor=int(input(\"escriba un numero\"))\n",
        "for i in range(9):\n",
        "    num=int(input(\"escriba un otro numero\"))\n",
        "    if num>numero_mayor:\n",
        "        numero_mayor=num\n",
        "\n",
        "print(\"el numero mayor es\", numero_mayor)\n",
        ""
      ]
    }
  ]
}