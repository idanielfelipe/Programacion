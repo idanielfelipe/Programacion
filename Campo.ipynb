{
  "nbformat": 4,
  "nbformat_minor": 0,
  "metadata": {
    "colab": {
      "provenance": [],
      "authorship_tag": "ABX9TyPr0Ntw2hik1Iz/ie4W9Zn7",
      "include_colab_link": true
    },
    "kernelspec": {
      "name": "python3",
      "display_name": "Python 3"
    },
    "language_info": {
      "name": "python"
    }
  },
  "cells": [
    {
      "cell_type": "markdown",
      "metadata": {
        "id": "view-in-github",
        "colab_type": "text"
      },
      "source": [
        "<a href=\"https://colab.research.google.com/github/idanielfelipe/Programacion/blob/main/Campo.ipynb\" target=\"_parent\"><img src=\"https://colab.research.google.com/assets/colab-badge.svg\" alt=\"Open In Colab\"/></a>"
      ]
    },
    {
      "cell_type": "code",
      "execution_count": null,
      "metadata": {
        "id": "8HaB6jeHQlwj"
      },
      "outputs": [],
      "source": [
        "import math\n",
        "\n",
        "class Vector:\n",
        "  def __init__(vector, x, y, z):\n",
        "    vector.x = x\n",
        "    vector.y = y\n",
        "    vector.z = z\n",
        "\n",
        "\n",
        "  def magnitud(vector):\n",
        "    resultado = math.sqrt(   (vector.x**2  +  vector.y**2   +   vector.z**2)         )\n",
        "    return resultado\n",
        "\n",
        "\n",
        "class VectorUnitario:\n",
        "  def __init__(vectorUnitario, vector):\n",
        "    vectorUnitario.x = vector.x / vector.magnitud()\n",
        "    vectorUnitario.y = vector.y / vector.magnitud()\n",
        "    vectorUnitario.z = vector.z / vector.magnitud()\n",
        "\n",
        "\n",
        "\n",
        "class Campo:\n",
        "  def __init__(campo):\n",
        "    x = float(input(\"diga la coordenada x \"))\n",
        "    y = float(input(\"diga la coordenada y \"))\n",
        "    z = float(input(\"diga la coordenada z \"))\n",
        "    campo.vector = Vector(x, y, z)\n",
        "    campo.carga = float(input(\"Ingrese la carga\"))\n",
        "    campo.k0=9*(10**-9)\n",
        "    campo.radio2=(campo.vector.x**2  +  campo.vector.y**2   +   campo.vector.z**2)\n",
        "\n",
        "  def direccion(campo):\n",
        "    vectorU = VectorUnitario(campo.vector)\n",
        "    dirX = campo.k0 * (campo.carga / campo.radio2) * vectorU.x\n",
        "    dirY = campo.k0 * (campo.carga / campo.radio2) * vectorU.y\n",
        "    dirZ = campo.k0 * (campo.carga / campo.radio2) * vectorU.z\n",
        "\n",
        "    print(\"el campo en x es \", dirX, \"el campo en y es \", dirY, \" el campo en z es \", dirZ)\n",
        "\n",
        "\n",
        "\n",
        "campo = Campo()\n",
        "campo.direccion()\n",
        "\n",
        "\n"
      ]
    }
  ]
}